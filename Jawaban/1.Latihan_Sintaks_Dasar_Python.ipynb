{
 "cells": [
  {
   "cell_type": "markdown",
   "metadata": {},
   "source": [
    "# Studi Kasus 1: Menghitung Tarif Parkir\n",
    "\n",
    "![parkiran](http://pojokpitu.com/yp-gbr-news/75208_08-01-2019_18-35-37_.jpg)\n",
    "\n",
    "## Tujuan\n",
    "\n",
    "* Peserta familiar dengan user defined function\n",
    "* Peserta dapat mengkombinasikan fungsi dengan percabangan\n",
    "\n",
    "## Skenario\n",
    "\n",
    "Sebuah mall memiliki tarif parkir progresif yang diberlakukan untuk mobil dan sepeda motor dengan ketentuan sebagai berikut:\n",
    "\n",
    "1. Satu jam pertama:\n",
    "    * Mobil : Rp. 4000\n",
    "    * Sepeda Motor : Rp. 2000\n",
    "2. Penambahan tarif untuk jam selanjutnya: \n",
    "    * Mobil : Rp. 2000\n",
    "    * Sepeda Motor : Rp. 1000\n",
    "    \n",
    "Buatlah sebuah fungsi yang menerima dua buah input, yaitu: jenis kendaraan yang diparkir, dan lama waktu parkir!\n",
    "\n",
    "## Input/Output\n",
    "\n",
    "**DATA INPUT**\n",
    "\n",
    "* Mobil 3 jam\n",
    "* Sepeda Motor 4 jam\n",
    "* Mobil 1 jam\n",
    "* Seped Motor 1 jam\n",
    "* Becak 1 Jam\n",
    "\n",
    "**OUTPUT YANG DIHARAPKAN**\n",
    "\n",
    "* `8000`\n",
    "* `5000`\n",
    "* `4000`\n",
    "* `2000`\n",
    "* `Jenis Kendaraan Mobil/Sepeda Motor`\n"
   ]
  },
  {
   "cell_type": "code",
   "execution_count": null,
   "metadata": {
    "collapsed": false
   },
   "outputs": [],
   "source": [
    "# Fungsi\n",
    "\n",
    "def tarif_parkir(jam, kendaraan):\n",
    "    if kendaraan == \"mobil\":\n",
    "        return 4000 * 1 + 2000 * (jam - 1)\n",
    "    elif kendaraan == \"sepeda motor\":\n",
    "        return 2000 * 1 + 1000 * (jam - 1)\n",
    "    else:\n",
    "        print(\"Jenis Kendaraan Mobil/Sepeda Motor\")"
   ]
  },
  {
   "cell_type": "code",
   "execution_count": null,
   "metadata": {
    "collapsed": false
   },
   "outputs": [],
   "source": [
    "# Test\n",
    "\n",
    "print(tarif_parkir(3, \"mobil\"))\n",
    "print(tarif_parkir(4, \"sepeda motor\"))\n",
    "print(tarif_parkir(1, \"mobil\"))\n",
    "print(tarif_parkir(1, \"sepeda motor\"))\n",
    "print(tarif_parkir(1, \"becak\"))"
   ]
  },
  {
   "cell_type": "markdown",
   "metadata": {},
   "source": [
    "# Studi Kasus 2: Apakah Saat Ini Tahun Kabisat?\n",
    "\n",
    "![tahun kabisat](https://informazone.com/wp-content/uploads/2017/11/maxresdefault.jpg)\n",
    "\n",
    "## Tujuan\n",
    "\n",
    "* Peserta familiar percabangan\n",
    "* Peserta familiar dengan operasi matematika\n",
    "\n",
    "## Skenario\n",
    "\n",
    "Tahun kabisat merupakan tahun dimana jumlah hari dalam setahunnya 366 hari atau pada tahun tersebut terdapat 29 hari di bulan Februari. Tahun kabisat hanya terjadi setiap 4 tahun sekali. Tahun kabisat memiliki ciri-ciri seperti berikut:\n",
    "\n",
    "* angka tahun dapat dibagi dengan 4\n",
    "* angka tahun tidak dapat dibagi dengan 100\n",
    "* angka tahun dapat dibagi dengan 400\n",
    "* mulai diperkenalkan sejak 1582 atau sejak kalender Gregorian diperkenalkan\n",
    "\n",
    "Buatlah sebuah program percabangan yang dapat mendeteksi jenis tahun berdasarkan input yang diberikan! (Gunakan fungsi `input()` untuk membuat input data lebih interaktif)\n",
    "\n",
    "## Input/Output\n",
    "\n",
    "**DATA INPUT**\n",
    "\n",
    "* 1980\n",
    "* 2019\n",
    "* 2020\n",
    "* 1580\n",
    "\n",
    "**OUTPUT YANG DIHARAPKAN**\n",
    "\n",
    "* `tahun kabisat`\n",
    "* `bukan tahun kabisat`\n",
    "* `tahun kabisat`\n",
    "* `Tidak dalam periode kalender Gregorian`\n",
    "\n"
   ]
  },
  {
   "cell_type": "code",
   "execution_count": null,
   "metadata": {
    "collapsed": false
   },
   "outputs": [],
   "source": [
    "tahun = int(input(\"Masukkan tahun: \"))\n",
    "\n",
    "if tahun > 1580:\n",
    "    if tahun % 4:\n",
    "        print(\"bukan tahun kabisat\")\n",
    "    elif tahun % 100:\n",
    "        print(\"tahun kabisat\")\n",
    "    elif tahun % 400:\n",
    "        print(\"bukan tahun kabisat\")\n",
    "    else:\n",
    "        print(\"tahun kabisat\") \n",
    "else:\n",
    "    print(\"Tidak dalam periode kalender Gregorian\")"
   ]
  },
  {
   "cell_type": "markdown",
   "metadata": {},
   "source": [
    "# Studi Kasus 3: Program Hanya Bisa Membaca Huruf Konsonan\n",
    "\n",
    "![huruf konsonan](http://4.bp.blogspot.com/-8-lbvEiX-sQ/VYoiGmYkKQI/AAAAAAAAAD4/BDeRQSJrn5s/s320/Mavethsekai%2Bjeman%2Bbahasa%2Bkonsonan.jpg)\n",
    "\n",
    "## Tujuan\n",
    "\n",
    "* Peserta familiar dengan percabangan\n",
    "* Peserta familiar dengan `for` loop dan `kendall` looping\n",
    "\n",
    "## Skenario\n",
    "\n",
    "Buatlah sebuah program yang hanya mencetak huruf konsonan dari sebuah kata yang diinputkan!\n",
    "\n",
    "## Input/Output\n",
    "\n",
    "**DATA INPUT**\n",
    "\n",
    "* Saya\n",
    "* Gregorian\n",
    "\n",
    "\n",
    "**OUTPUT YANG DIHARAPKAN**\n",
    "\n",
    "* `SY`\n",
    "* `GRGRN`"
   ]
  },
  {
   "cell_type": "code",
   "execution_count": null,
   "metadata": {
    "collapsed": false
   },
   "outputs": [],
   "source": [
    "kata = input(\"Masukkan sebuah kata: \")\n",
    "\n",
    "for huruf in kata:\n",
    "    if huruf.upper() in [\"A\", \"E\", \"I\", \"O\", \"U\"]:\n",
    "        continue\n",
    "    else:\n",
    "        print(huruf.upper(), end=\"\")"
   ]
  }
 ],
 "metadata": {
  "kernelspec": {
   "display_name": "p36workshop",
   "language": "python",
   "name": "p36workshop"
  },
  "language_info": {
   "codemirror_mode": {
    "name": "ipython",
    "version": 3
   },
   "file_extension": ".py",
   "mimetype": "text/x-python",
   "name": "python",
   "nbconvert_exporter": "python",
   "pygments_lexer": "ipython3",
   "version": "3.5.2"
  }
 },
 "nbformat": 4,
 "nbformat_minor": 1
}
