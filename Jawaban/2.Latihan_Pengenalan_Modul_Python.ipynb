{
 "cells": [
  {
   "cell_type": "markdown",
   "metadata": {},
   "source": [
    "# Studi Kasus : Analisis Data Eksploratif\n",
    "\n",
    "\n",
    "## Tujuan\n",
    "\n",
    "Peserta dapat melakukan analisis data ekploartif menggunakan modul `pandas`, `numpy` dan `matplotlib`\n",
    "\n",
    "## Skenario\n",
    "\n",
    "Kamu  merupakan seorang data analis yang sangat berpengalaman. Pada suatu hari kamu diminta untuk melakukan analisis terhadap data yang dimiliki oleh sebuah toko. Sebelum analisis yang lebih kompleks kamu lakukan, kamu perlu melakukan analisis data eksploratif. Pada analisis data eksploratif kamu akan melihat terlebih dahulu data seperti apa yang akan anda analisa. Kegiatan ini meliputi:\n",
    "\n",
    "* Analisis statistika deskriptif\n",
    "* Analisis missing value\n",
    "* Visualisasi data untuk mengecek bentuk distribusi variabel dan adanya korelasi antar variabel\n",
    "\n",
    "Pada latihan kali ini kamu hanya diminta untuk melengkapi kode yang telah disediakan dengan mengganti `___` dengan kata kunci atau sebuah fungsi agar program dapat berjalan."
   ]
  },
  {
   "cell_type": "code",
   "execution_count": 12,
   "metadata": {},
   "outputs": [],
   "source": [
    "# import modul\n",
    "import pandas as pd\n",
    "import numpy as np\n",
    "import matplotlib.pyplot as plt\n",
    "\n",
    "%matplotlib inline"
   ]
  },
  {
   "cell_type": "markdown",
   "metadata": {},
   "source": [
    "## Data yang DIgunakan\n",
    "\n",
    "Data yang digunakan memiliki format `csv`. Data ini dapat diperoleh [disini](https://github.com/kadnan/EDA_Python/blob/master/data.csv). Untuk membancanya kita dapat menggunakan sebuah fungsi yang dimiliki oleh `pandas`."
   ]
  },
  {
   "cell_type": "code",
   "execution_count": 21,
   "metadata": {},
   "outputs": [
    {
     "data": {
      "text/html": [
       "<div>\n",
       "<style scoped>\n",
       "    .dataframe tbody tr th:only-of-type {\n",
       "        vertical-align: middle;\n",
       "    }\n",
       "\n",
       "    .dataframe tbody tr th {\n",
       "        vertical-align: top;\n",
       "    }\n",
       "\n",
       "    .dataframe thead th {\n",
       "        text-align: right;\n",
       "    }\n",
       "</style>\n",
       "<table border=\"1\" class=\"dataframe\">\n",
       "  <thead>\n",
       "    <tr style=\"text-align: right;\">\n",
       "      <th></th>\n",
       "      <th>BranchName</th>\n",
       "      <th>Week</th>\n",
       "      <th>DayWeek</th>\n",
       "      <th>Day</th>\n",
       "      <th>Month</th>\n",
       "      <th>Hour</th>\n",
       "      <th>Transaction_Type</th>\n",
       "      <th>Units</th>\n",
       "      <th>Amount</th>\n",
       "    </tr>\n",
       "  </thead>\n",
       "  <tbody>\n",
       "    <tr>\n",
       "      <th>0</th>\n",
       "      <td>MyStore</td>\n",
       "      <td>1</td>\n",
       "      <td>3</td>\n",
       "      <td>2</td>\n",
       "      <td>1</td>\n",
       "      <td>9</td>\n",
       "      <td>Card</td>\n",
       "      <td>3</td>\n",
       "      <td>$54.00</td>\n",
       "    </tr>\n",
       "    <tr>\n",
       "      <th>1</th>\n",
       "      <td>MyStore</td>\n",
       "      <td>1</td>\n",
       "      <td>3</td>\n",
       "      <td>2</td>\n",
       "      <td>1</td>\n",
       "      <td>10</td>\n",
       "      <td>Cash</td>\n",
       "      <td>7</td>\n",
       "      <td>-$17.80</td>\n",
       "    </tr>\n",
       "    <tr>\n",
       "      <th>2</th>\n",
       "      <td>MyStore</td>\n",
       "      <td>1</td>\n",
       "      <td>3</td>\n",
       "      <td>2</td>\n",
       "      <td>1</td>\n",
       "      <td>10</td>\n",
       "      <td>Card</td>\n",
       "      <td>7</td>\n",
       "      <td>$41.99</td>\n",
       "    </tr>\n",
       "    <tr>\n",
       "      <th>3</th>\n",
       "      <td>MyStore</td>\n",
       "      <td>1</td>\n",
       "      <td>3</td>\n",
       "      <td>2</td>\n",
       "      <td>1</td>\n",
       "      <td>11</td>\n",
       "      <td>Card</td>\n",
       "      <td>20</td>\n",
       "      <td>$412.50</td>\n",
       "    </tr>\n",
       "    <tr>\n",
       "      <th>4</th>\n",
       "      <td>MyStore</td>\n",
       "      <td>1</td>\n",
       "      <td>3</td>\n",
       "      <td>2</td>\n",
       "      <td>1</td>\n",
       "      <td>12</td>\n",
       "      <td>Cash</td>\n",
       "      <td>1</td>\n",
       "      <td>-$18.00</td>\n",
       "    </tr>\n",
       "    <tr>\n",
       "      <th>...</th>\n",
       "      <td>...</td>\n",
       "      <td>...</td>\n",
       "      <td>...</td>\n",
       "      <td>...</td>\n",
       "      <td>...</td>\n",
       "      <td>...</td>\n",
       "      <td>...</td>\n",
       "      <td>...</td>\n",
       "      <td>...</td>\n",
       "    </tr>\n",
       "    <tr>\n",
       "      <th>4095</th>\n",
       "      <td>MyStore</td>\n",
       "      <td>53</td>\n",
       "      <td>1</td>\n",
       "      <td>31</td>\n",
       "      <td>12</td>\n",
       "      <td>13</td>\n",
       "      <td>Card</td>\n",
       "      <td>10</td>\n",
       "      <td>$129.00</td>\n",
       "    </tr>\n",
       "    <tr>\n",
       "      <th>4096</th>\n",
       "      <td>MyStore</td>\n",
       "      <td>53</td>\n",
       "      <td>1</td>\n",
       "      <td>31</td>\n",
       "      <td>12</td>\n",
       "      <td>14</td>\n",
       "      <td>Cash</td>\n",
       "      <td>32</td>\n",
       "      <td>-$68.36</td>\n",
       "    </tr>\n",
       "    <tr>\n",
       "      <th>4097</th>\n",
       "      <td>MyStore</td>\n",
       "      <td>53</td>\n",
       "      <td>1</td>\n",
       "      <td>31</td>\n",
       "      <td>12</td>\n",
       "      <td>14</td>\n",
       "      <td>Card</td>\n",
       "      <td>5</td>\n",
       "      <td>$71.00</td>\n",
       "    </tr>\n",
       "    <tr>\n",
       "      <th>4098</th>\n",
       "      <td>MyStore</td>\n",
       "      <td>53</td>\n",
       "      <td>1</td>\n",
       "      <td>31</td>\n",
       "      <td>12</td>\n",
       "      <td>15</td>\n",
       "      <td>Cash</td>\n",
       "      <td>66</td>\n",
       "      <td>-$359.18</td>\n",
       "    </tr>\n",
       "    <tr>\n",
       "      <th>4099</th>\n",
       "      <td>MyStore</td>\n",
       "      <td>53</td>\n",
       "      <td>1</td>\n",
       "      <td>31</td>\n",
       "      <td>12</td>\n",
       "      <td>15</td>\n",
       "      <td>Card</td>\n",
       "      <td>4</td>\n",
       "      <td>$130.00</td>\n",
       "    </tr>\n",
       "  </tbody>\n",
       "</table>\n",
       "<p>4100 rows × 9 columns</p>\n",
       "</div>"
      ],
      "text/plain": [
       "     BranchName  Week  DayWeek  Day  Month  Hour Transaction_Type  Units  \\\n",
       "0       MyStore     1        3    2      1     9             Card      3   \n",
       "1       MyStore     1        3    2      1    10             Cash      7   \n",
       "2       MyStore     1        3    2      1    10             Card      7   \n",
       "3       MyStore     1        3    2      1    11             Card     20   \n",
       "4       MyStore     1        3    2      1    12             Cash      1   \n",
       "...         ...   ...      ...  ...    ...   ...              ...    ...   \n",
       "4095    MyStore    53        1   31     12    13             Card     10   \n",
       "4096    MyStore    53        1   31     12    14             Cash     32   \n",
       "4097    MyStore    53        1   31     12    14             Card      5   \n",
       "4098    MyStore    53        1   31     12    15             Cash     66   \n",
       "4099    MyStore    53        1   31     12    15             Card      4   \n",
       "\n",
       "        Amount  \n",
       "0       $54.00  \n",
       "1      -$17.80  \n",
       "2       $41.99  \n",
       "3      $412.50  \n",
       "4      -$18.00  \n",
       "...        ...  \n",
       "4095   $129.00  \n",
       "4096   -$68.36  \n",
       "4097    $71.00  \n",
       "4098  -$359.18  \n",
       "4099   $130.00  \n",
       "\n",
       "[4100 rows x 9 columns]"
      ]
     },
     "execution_count": 21,
     "metadata": {},
     "output_type": "execute_result"
    }
   ],
   "source": [
    "df = pd.read_csv(\"data.csv\")\n",
    "df"
   ]
  },
  {
   "cell_type": "code",
   "execution_count": 24,
   "metadata": {},
   "outputs": [],
   "source": [
    "# konversi format variabel Amount menjadi numeric\n",
    "df[\"Amount\"] = df[\"Amount\"].str.replace(\"$\",\"\").str.replace(\",\",\"\")\n",
    "df[\"Amount\"] = pd.to_numeric(df[\"Amount\"])"
   ]
  },
  {
   "cell_type": "markdown",
   "metadata": {},
   "source": [
    "Berdasarkan data yang ditampilkan dapat dilihat bahwa data hanya berasal dari satu toko saja, sehingga variabel `BranchName` dapat dihilangkan dari data yang ada."
   ]
  },
  {
   "cell_type": "code",
   "execution_count": 25,
   "metadata": {
    "scrolled": false
   },
   "outputs": [
    {
     "data": {
      "text/html": [
       "<div>\n",
       "<style scoped>\n",
       "    .dataframe tbody tr th:only-of-type {\n",
       "        vertical-align: middle;\n",
       "    }\n",
       "\n",
       "    .dataframe tbody tr th {\n",
       "        vertical-align: top;\n",
       "    }\n",
       "\n",
       "    .dataframe thead th {\n",
       "        text-align: right;\n",
       "    }\n",
       "</style>\n",
       "<table border=\"1\" class=\"dataframe\">\n",
       "  <thead>\n",
       "    <tr style=\"text-align: right;\">\n",
       "      <th></th>\n",
       "      <th>Week</th>\n",
       "      <th>DayWeek</th>\n",
       "      <th>Day</th>\n",
       "      <th>Month</th>\n",
       "      <th>Hour</th>\n",
       "      <th>Transaction_Type</th>\n",
       "      <th>Units</th>\n",
       "      <th>Amount</th>\n",
       "    </tr>\n",
       "  </thead>\n",
       "  <tbody>\n",
       "    <tr>\n",
       "      <th>0</th>\n",
       "      <td>1</td>\n",
       "      <td>3</td>\n",
       "      <td>2</td>\n",
       "      <td>1</td>\n",
       "      <td>9</td>\n",
       "      <td>Card</td>\n",
       "      <td>3</td>\n",
       "      <td>54.00</td>\n",
       "    </tr>\n",
       "    <tr>\n",
       "      <th>1</th>\n",
       "      <td>1</td>\n",
       "      <td>3</td>\n",
       "      <td>2</td>\n",
       "      <td>1</td>\n",
       "      <td>10</td>\n",
       "      <td>Cash</td>\n",
       "      <td>7</td>\n",
       "      <td>-17.80</td>\n",
       "    </tr>\n",
       "    <tr>\n",
       "      <th>2</th>\n",
       "      <td>1</td>\n",
       "      <td>3</td>\n",
       "      <td>2</td>\n",
       "      <td>1</td>\n",
       "      <td>10</td>\n",
       "      <td>Card</td>\n",
       "      <td>7</td>\n",
       "      <td>41.99</td>\n",
       "    </tr>\n",
       "    <tr>\n",
       "      <th>3</th>\n",
       "      <td>1</td>\n",
       "      <td>3</td>\n",
       "      <td>2</td>\n",
       "      <td>1</td>\n",
       "      <td>11</td>\n",
       "      <td>Card</td>\n",
       "      <td>20</td>\n",
       "      <td>412.50</td>\n",
       "    </tr>\n",
       "    <tr>\n",
       "      <th>4</th>\n",
       "      <td>1</td>\n",
       "      <td>3</td>\n",
       "      <td>2</td>\n",
       "      <td>1</td>\n",
       "      <td>12</td>\n",
       "      <td>Cash</td>\n",
       "      <td>1</td>\n",
       "      <td>-18.00</td>\n",
       "    </tr>\n",
       "    <tr>\n",
       "      <th>...</th>\n",
       "      <td>...</td>\n",
       "      <td>...</td>\n",
       "      <td>...</td>\n",
       "      <td>...</td>\n",
       "      <td>...</td>\n",
       "      <td>...</td>\n",
       "      <td>...</td>\n",
       "      <td>...</td>\n",
       "    </tr>\n",
       "    <tr>\n",
       "      <th>4095</th>\n",
       "      <td>53</td>\n",
       "      <td>1</td>\n",
       "      <td>31</td>\n",
       "      <td>12</td>\n",
       "      <td>13</td>\n",
       "      <td>Card</td>\n",
       "      <td>10</td>\n",
       "      <td>129.00</td>\n",
       "    </tr>\n",
       "    <tr>\n",
       "      <th>4096</th>\n",
       "      <td>53</td>\n",
       "      <td>1</td>\n",
       "      <td>31</td>\n",
       "      <td>12</td>\n",
       "      <td>14</td>\n",
       "      <td>Cash</td>\n",
       "      <td>32</td>\n",
       "      <td>-68.36</td>\n",
       "    </tr>\n",
       "    <tr>\n",
       "      <th>4097</th>\n",
       "      <td>53</td>\n",
       "      <td>1</td>\n",
       "      <td>31</td>\n",
       "      <td>12</td>\n",
       "      <td>14</td>\n",
       "      <td>Card</td>\n",
       "      <td>5</td>\n",
       "      <td>71.00</td>\n",
       "    </tr>\n",
       "    <tr>\n",
       "      <th>4098</th>\n",
       "      <td>53</td>\n",
       "      <td>1</td>\n",
       "      <td>31</td>\n",
       "      <td>12</td>\n",
       "      <td>15</td>\n",
       "      <td>Cash</td>\n",
       "      <td>66</td>\n",
       "      <td>-359.18</td>\n",
       "    </tr>\n",
       "    <tr>\n",
       "      <th>4099</th>\n",
       "      <td>53</td>\n",
       "      <td>1</td>\n",
       "      <td>31</td>\n",
       "      <td>12</td>\n",
       "      <td>15</td>\n",
       "      <td>Card</td>\n",
       "      <td>4</td>\n",
       "      <td>130.00</td>\n",
       "    </tr>\n",
       "  </tbody>\n",
       "</table>\n",
       "<p>4100 rows × 8 columns</p>\n",
       "</div>"
      ],
      "text/plain": [
       "      Week  DayWeek  Day  Month  Hour Transaction_Type  Units  Amount\n",
       "0        1        3    2      1     9             Card      3   54.00\n",
       "1        1        3    2      1    10             Cash      7  -17.80\n",
       "2        1        3    2      1    10             Card      7   41.99\n",
       "3        1        3    2      1    11             Card     20  412.50\n",
       "4        1        3    2      1    12             Cash      1  -18.00\n",
       "...    ...      ...  ...    ...   ...              ...    ...     ...\n",
       "4095    53        1   31     12    13             Card     10  129.00\n",
       "4096    53        1   31     12    14             Cash     32  -68.36\n",
       "4097    53        1   31     12    14             Card      5   71.00\n",
       "4098    53        1   31     12    15             Cash     66 -359.18\n",
       "4099    53        1   31     12    15             Card      4  130.00\n",
       "\n",
       "[4100 rows x 8 columns]"
      ]
     },
     "execution_count": 25,
     "metadata": {},
     "output_type": "execute_result"
    }
   ],
   "source": [
    "df.drop('BranchName', axis = 1, inplace = True)\n",
    "df"
   ]
  },
  {
   "cell_type": "markdown",
   "metadata": {},
   "source": [
    "## Analisis Statistika Deskriptif"
   ]
  },
  {
   "cell_type": "markdown",
   "metadata": {},
   "source": [
    "Metode berikut dapat digunakan untuk menghasilkan ringkasan data"
   ]
  },
  {
   "cell_type": "code",
   "execution_count": 26,
   "metadata": {
    "scrolled": true
   },
   "outputs": [
    {
     "data": {
      "text/html": [
       "<div>\n",
       "<style scoped>\n",
       "    .dataframe tbody tr th:only-of-type {\n",
       "        vertical-align: middle;\n",
       "    }\n",
       "\n",
       "    .dataframe tbody tr th {\n",
       "        vertical-align: top;\n",
       "    }\n",
       "\n",
       "    .dataframe thead th {\n",
       "        text-align: right;\n",
       "    }\n",
       "</style>\n",
       "<table border=\"1\" class=\"dataframe\">\n",
       "  <thead>\n",
       "    <tr style=\"text-align: right;\">\n",
       "      <th></th>\n",
       "      <th>Week</th>\n",
       "      <th>DayWeek</th>\n",
       "      <th>Day</th>\n",
       "      <th>Month</th>\n",
       "      <th>Hour</th>\n",
       "      <th>Units</th>\n",
       "      <th>Amount</th>\n",
       "    </tr>\n",
       "  </thead>\n",
       "  <tbody>\n",
       "    <tr>\n",
       "      <th>count</th>\n",
       "      <td>4100.000000</td>\n",
       "      <td>4100.000000</td>\n",
       "      <td>4100.000000</td>\n",
       "      <td>4100.000000</td>\n",
       "      <td>4100.000000</td>\n",
       "      <td>4100.000000</td>\n",
       "      <td>4100.000000</td>\n",
       "    </tr>\n",
       "    <tr>\n",
       "      <th>mean</th>\n",
       "      <td>34.017805</td>\n",
       "      <td>4.183902</td>\n",
       "      <td>15.812195</td>\n",
       "      <td>8.231463</td>\n",
       "      <td>12.949024</td>\n",
       "      <td>12.779512</td>\n",
       "      <td>35.237046</td>\n",
       "    </tr>\n",
       "    <tr>\n",
       "      <th>std</th>\n",
       "      <td>14.714289</td>\n",
       "      <td>1.967864</td>\n",
       "      <td>8.810817</td>\n",
       "      <td>3.396586</td>\n",
       "      <td>2.631853</td>\n",
       "      <td>17.854968</td>\n",
       "      <td>183.538724</td>\n",
       "    </tr>\n",
       "    <tr>\n",
       "      <th>min</th>\n",
       "      <td>1.000000</td>\n",
       "      <td>1.000000</td>\n",
       "      <td>1.000000</td>\n",
       "      <td>1.000000</td>\n",
       "      <td>8.000000</td>\n",
       "      <td>1.000000</td>\n",
       "      <td>-1041.800000</td>\n",
       "    </tr>\n",
       "    <tr>\n",
       "      <th>25%</th>\n",
       "      <td>29.000000</td>\n",
       "      <td>3.000000</td>\n",
       "      <td>8.000000</td>\n",
       "      <td>7.000000</td>\n",
       "      <td>11.000000</td>\n",
       "      <td>3.000000</td>\n",
       "      <td>-47.000000</td>\n",
       "    </tr>\n",
       "    <tr>\n",
       "      <th>50%</th>\n",
       "      <td>37.000000</td>\n",
       "      <td>4.000000</td>\n",
       "      <td>16.000000</td>\n",
       "      <td>9.000000</td>\n",
       "      <td>13.000000</td>\n",
       "      <td>8.000000</td>\n",
       "      <td>-2.385000</td>\n",
       "    </tr>\n",
       "    <tr>\n",
       "      <th>75%</th>\n",
       "      <td>45.000000</td>\n",
       "      <td>6.000000</td>\n",
       "      <td>23.000000</td>\n",
       "      <td>11.000000</td>\n",
       "      <td>15.000000</td>\n",
       "      <td>16.000000</td>\n",
       "      <td>99.512500</td>\n",
       "    </tr>\n",
       "    <tr>\n",
       "      <th>max</th>\n",
       "      <td>53.000000</td>\n",
       "      <td>7.000000</td>\n",
       "      <td>31.000000</td>\n",
       "      <td>12.000000</td>\n",
       "      <td>19.000000</td>\n",
       "      <td>274.000000</td>\n",
       "      <td>1487.000000</td>\n",
       "    </tr>\n",
       "  </tbody>\n",
       "</table>\n",
       "</div>"
      ],
      "text/plain": [
       "              Week      DayWeek          Day        Month         Hour  \\\n",
       "count  4100.000000  4100.000000  4100.000000  4100.000000  4100.000000   \n",
       "mean     34.017805     4.183902    15.812195     8.231463    12.949024   \n",
       "std      14.714289     1.967864     8.810817     3.396586     2.631853   \n",
       "min       1.000000     1.000000     1.000000     1.000000     8.000000   \n",
       "25%      29.000000     3.000000     8.000000     7.000000    11.000000   \n",
       "50%      37.000000     4.000000    16.000000     9.000000    13.000000   \n",
       "75%      45.000000     6.000000    23.000000    11.000000    15.000000   \n",
       "max      53.000000     7.000000    31.000000    12.000000    19.000000   \n",
       "\n",
       "             Units       Amount  \n",
       "count  4100.000000  4100.000000  \n",
       "mean     12.779512    35.237046  \n",
       "std      17.854968   183.538724  \n",
       "min       1.000000 -1041.800000  \n",
       "25%       3.000000   -47.000000  \n",
       "50%       8.000000    -2.385000  \n",
       "75%      16.000000    99.512500  \n",
       "max     274.000000  1487.000000  "
      ]
     },
     "execution_count": 26,
     "metadata": {},
     "output_type": "execute_result"
    }
   ],
   "source": [
    "df.describe()"
   ]
  },
  {
   "cell_type": "markdown",
   "metadata": {},
   "source": [
    "Berdasarkan data tersebut, seluruh variabel memiliki nilai `count` yang sama yang menunjukkan pada data tidak terdapat *missing value*"
   ]
  },
  {
   "cell_type": "markdown",
   "metadata": {},
   "source": [
    "## Distribusi Data\n",
    "\n",
    "Analisis distribusi data dapat dilakukan melalui visualisasi data menggunakan boxplot atau histrogram"
   ]
  },
  {
   "cell_type": "markdown",
   "metadata": {},
   "source": [
    "### Histogram"
   ]
  },
  {
   "cell_type": "code",
   "execution_count": 34,
   "metadata": {
    "scrolled": true
   },
   "outputs": [
    {
     "data": {
      "image/png": "[encoded data removed]",
      "text/plain": [
       "<Figure size 432x288 with 1 Axes>"
      ]
     },
     "metadata": {
      "needs_background": "light"
     },
     "output_type": "display_data"
    }
   ],
   "source": [
    "# Histogram Amount\n",
    "num_bins = 20\n",
    "plt.hist(df[\"Amount\"], num_bins , alpha = 0.5)\n",
    "plt.show()"
   ]
  },
  {
   "cell_type": "code",
   "execution_count": 37,
   "metadata": {},
   "outputs": [
    {
     "data": {
      "image/png": "[encoded data removed]",
      "text/plain": [
       "<Figure size 432x288 with 1 Axes>"
      ]
     },
     "metadata": {
      "needs_background": "light"
     },
     "output_type": "display_data"
    }
   ],
   "source": [
    "# Histogram Units\n",
    "num_bins = 20\n",
    "plt.hist(df[\"Units\"], num_bins , alpha = 0.5)\n",
    "plt.show()"
   ]
  },
  {
   "cell_type": "markdown",
   "metadata": {},
   "source": [
    "### Boxplot"
   ]
  },
  {
   "cell_type": "code",
   "execution_count": 40,
   "metadata": {},
   "outputs": [
    {
     "data": {
      "image/png": "[encoded data removed]",
      "text/plain": [
       "<Figure size 432x288 with 1 Axes>"
      ]
     },
     "metadata": {
      "needs_background": "light"
     },
     "output_type": "display_data"
    }
   ],
   "source": [
    "# Boxplot Amount\n",
    "plt.boxplot(df[\"Amount\"])\n",
    "plt.show()"
   ]
  },
  {
   "cell_type": "code",
   "execution_count": 41,
   "metadata": {},
   "outputs": [
    {
     "data": {
      "image/png": "[encoded data removed]",
      "text/plain": [
       "<Figure size 432x288 with 1 Axes>"
      ]
     },
     "metadata": {
      "needs_background": "light"
     },
     "output_type": "display_data"
    }
   ],
   "source": [
    "# Boxplot Units\n",
    "plt.boxplot(df[\"Units\"])\n",
    "plt.show()"
   ]
  },
  {
   "cell_type": "markdown",
   "metadata": {},
   "source": [
    "## Analisis Penjualan\n",
    " \n",
    "Analisis jumlah penjulan dilakukan dengan mengelompokkan data units berdasarkan jam, hari, minggu, atau bulan untuk mengetahui kapan penjualan tertinggi terjadi."
   ]
  },
  {
   "cell_type": "markdown",
   "metadata": {},
   "source": [
    "### Penjulan Per Bulan"
   ]
  },
  {
   "cell_type": "code",
   "execution_count": 42,
   "metadata": {},
   "outputs": [
    {
     "data": {
      "text/plain": [
       "Month\n",
       "1     604\n",
       "7     606\n",
       "8     572\n",
       "9     580\n",
       "10    581\n",
       "11    587\n",
       "12    570\n",
       "dtype: int64"
      ]
     },
     "execution_count": 42,
     "metadata": {},
     "output_type": "execute_result"
    }
   ],
   "source": [
    "penjualan_per_bulan = df.groupby(\"Month\").size()\n",
    "penjualan_per_bulan"
   ]
  },
  {
   "cell_type": "code",
   "execution_count": 46,
   "metadata": {},
   "outputs": [
    {
     "data": {
      "text/plain": [
       "Text(0, 0.5, 'Total Unit Terjual')"
      ]
     },
     "execution_count": 46,
     "metadata": {},
     "output_type": "execute_result"
    },
    {
     "data": {
      "image/png": "[encoded data removed]",
      "text/plain": [
       "<Figure size 432x288 with 1 Axes>"
      ]
     },
     "metadata": {
      "needs_background": "light"
     },
     "output_type": "display_data"
    }
   ],
   "source": [
    "plot = penjualan_per_bulan.plot(title = \"Penjualan Per Bulan\")\n",
    "plot.set_xlabel(\"Bulan\")\n",
    "plot.set_ylabel(\"Total Unit Terjual\")"
   ]
  },
  {
   "cell_type": "markdown",
   "metadata": {},
   "source": [
    "### Penjualan Per Hari"
   ]
  },
  {
   "cell_type": "code",
   "execution_count": 47,
   "metadata": {},
   "outputs": [
    {
     "data": {
      "text/plain": [
       "Day\n",
       "1     121\n",
       "2     144\n",
       "3     133\n",
       "4     137\n",
       "5     133\n",
       "6     138\n",
       "7     123\n",
       "8     118\n",
       "9     137\n",
       "10    137\n",
       "11    140\n",
       "12    141\n",
       "13    138\n",
       "14    139\n",
       "15    141\n",
       "16    133\n",
       "17    122\n",
       "18    151\n",
       "19    137\n",
       "20    130\n",
       "21    136\n",
       "22    133\n",
       "23    145\n",
       "24    124\n",
       "25    112\n",
       "26    123\n",
       "27    135\n",
       "28    138\n",
       "29    145\n",
       "30    138\n",
       "31     78\n",
       "dtype: int64"
      ]
     },
     "execution_count": 47,
     "metadata": {},
     "output_type": "execute_result"
    }
   ],
   "source": [
    "penjualan_per_hari = df.groupby(\"Day\").size()\n",
    "penjualan_per_hari"
   ]
  },
  {
   "cell_type": "code",
   "execution_count": 48,
   "metadata": {},
   "outputs": [
    {
     "data": {
      "text/plain": [
       "Text(0, 0.5, 'Total Unit Terjual')"
      ]
     },
     "execution_count": 48,
     "metadata": {},
     "output_type": "execute_result"
    },
    {
     "data": {
      "image/png": "[encoded data removed]",
      "text/plain": [
       "<Figure size 432x288 with 1 Axes>"
      ]
     },
     "metadata": {
      "needs_background": "light"
     },
     "output_type": "display_data"
    }
   ],
   "source": [
    "plot = penjualan_per_hari.plot(title = \"Penjualan Per Hari\")\n",
    "plot.set_xlabel(\"Hari\")\n",
    "plot.set_ylabel(\"Total Unit Terjual\")"
   ]
  }
 ],
 "metadata": {
  "kernelspec": {
   "display_name": "Python 3",
   "language": "python",
   "name": "python3"
  },
  "language_info": {
   "codemirror_mode": {
    "name": "ipython",
    "version": 3
   },
   "file_extension": ".py",
   "mimetype": "text/x-python",
   "name": "python",
   "nbconvert_exporter": "python",
   "pygments_lexer": "ipython3",
   "version": "3.7.6"
  }
 },
 "nbformat": 4,
 "nbformat_minor": 4
}
