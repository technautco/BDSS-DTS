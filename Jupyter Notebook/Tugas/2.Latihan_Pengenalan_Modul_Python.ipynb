{
 "cells": [
  {
   "cell_type": "markdown",
   "metadata": {},
   "source": [
    "# Studi Kasus : Analisis Data Eksploratif\n",
    "\n",
    "\n",
    "## Tujuan\n",
    "\n",
    "Peserta dapat melakukan analisis data ekploartif menggunakan modul `pandas`, `numpy` dan `matplotlib`\n",
    "\n",
    "## Skenario\n",
    "\n",
    "Kamu  merupakan seorang data analis yang sangat berpengalaman. Pada suatu hari kamu diminta untuk melakukan analisis terhadap data yang dimiliki oleh sebuah toko. Sebelum analisis yang lebih kompleks kamu lakukan, kamu perlu melakukan analisis data eksploratif. Pada analisis data eksploratif kamu akan melihat terlebih dahulu data seperti apa yang akan anda analisa. Kegiatan ini meliputi:\n",
    "\n",
    "* Analisis statistika deskriptif\n",
    "* Analisis missing value\n",
    "* Visualisasi data untuk mengecek bentuk distribusi variabel dan adanya korelasi antar variabel\n",
    "\n",
    "Pada latihan kali ini kamu hanya diminta untuk melengkapi kode yang telah disediakan dengan mengganti `___` dengan kata kunci atau sebuah fungsi agar program dapat berjalan."
   ]
  },
  {
   "cell_type": "code",
   "execution_count": null,
   "metadata": {},
   "outputs": [],
   "source": [
    "# import modul\n",
    "import ___ as pd\n",
    "import numpy as np\n",
    "import matplotlib.pyplot as plt\n",
    "\n",
    "%matplotlib inline"
   ]
  },
  {
   "cell_type": "markdown",
   "metadata": {},
   "source": [
    "## Data yang DIgunakan\n",
    "\n",
    "Data yang digunakan memiliki format `csv`. Data ini dapat diperoleh [disini](https://github.com/kadnan/EDA_Python/blob/master/data.csv). Untuk membancanya kita dapat menggunakan sebuah fungsi yang dimiliki oleh `pandas`."
   ]
  },
  {
   "cell_type": "code",
   "execution_count": null,
   "metadata": {},
   "outputs": [],
   "source": [
    "df = pd.___(\"data.csv\")\n",
    "df"
   ]
  },
  {
   "cell_type": "code",
   "execution_count": null,
   "metadata": {},
   "outputs": [],
   "source": [
    "# konversi format variabel Amount menjadi numeric\n",
    "df[\"Amount\"] = df[\"Amount\"].str.replace(\"$\",\"\").str.replace(\",\",\"\")\n",
    "df[\"Amount\"] = pd.___(df[\"Amount\"])"
   ]
  },
  {
   "cell_type": "markdown",
   "metadata": {},
   "source": [
    "Berdasarkan data yang ditampilkan dapat dilihat bahwa data hanya berasal dari satu toko saja, sehingga variabel `BranchName` dapat dihilangkan dari data yang ada."
   ]
  },
  {
   "cell_type": "code",
   "execution_count": null,
   "metadata": {
    "scrolled": false
   },
   "outputs": [],
   "source": [
    "df.drop(___, axis = 1, inplace = True)\n",
    "df"
   ]
  },
  {
   "cell_type": "markdown",
   "metadata": {},
   "source": [
    "## Analisis Statistika Deskriptif"
   ]
  },
  {
   "cell_type": "markdown",
   "metadata": {},
   "source": [
    "Metode berikut dapat digunakan untuk menghasilkan ringkasan data"
   ]
  },
  {
   "cell_type": "code",
   "execution_count": null,
   "metadata": {
    "scrolled": true
   },
   "outputs": [],
   "source": [
    "df.___()"
   ]
  },
  {
   "cell_type": "markdown",
   "metadata": {},
   "source": [
    "Berdasarkan data tersebut, seluruh variabel memiliki nilai `count` yang sama yang menunjukkan pada data tidak terdapat *missing value*"
   ]
  },
  {
   "cell_type": "markdown",
   "metadata": {},
   "source": [
    "## Distribusi Data\n",
    "\n",
    "Analisis distribusi data dapat dilakukan melalui visualisasi data menggunakan boxplot atau histrogram"
   ]
  },
  {
   "cell_type": "markdown",
   "metadata": {},
   "source": [
    "### Histogram"
   ]
  },
  {
   "cell_type": "code",
   "execution_count": null,
   "metadata": {
    "scrolled": true
   },
   "outputs": [],
   "source": [
    "# Histogram Amount\n",
    "num_bins = 20\n",
    "plt.hist(df[\"Amount\"], num_bins , alpha = 0.5)\n",
    "plt.show()"
   ]
  },
  {
   "cell_type": "code",
   "execution_count": null,
   "metadata": {},
   "outputs": [],
   "source": [
    "# Histogram Units\n",
    "num_bins = 20\n",
    "plt.___(df[___], num_bins , alpha = 0.5)\n",
    "plt.show()"
   ]
  },
  {
   "cell_type": "markdown",
   "metadata": {},
   "source": [
    "### Boxplot"
   ]
  },
  {
   "cell_type": "code",
   "execution_count": null,
   "metadata": {},
   "outputs": [],
   "source": [
    "# Boxplot Amount\n",
    "plt.boxplot(df[\"Amount\"])\n",
    "plt.show()"
   ]
  },
  {
   "cell_type": "code",
   "execution_count": null,
   "metadata": {},
   "outputs": [],
   "source": [
    "# Boxplot Units\n",
    "plt.___(df[___])\n",
    "plt.show()"
   ]
  },
  {
   "cell_type": "markdown",
   "metadata": {},
   "source": [
    "## Analisis Penjualan\n",
    " \n",
    "Analisis jumlah penjulan dilakukan dengan mengelompokkan data units berdasarkan jam, hari, minggu, atau bulan untuk mengetahui kapan penjualan tertinggi terjadi."
   ]
  },
  {
   "cell_type": "markdown",
   "metadata": {},
   "source": [
    "### Penjulan Per Bulan"
   ]
  },
  {
   "cell_type": "code",
   "execution_count": null,
   "metadata": {},
   "outputs": [],
   "source": [
    "penjualan_per_bulan = df.groupby(\"Month\").size()\n",
    "penjualan_per_bulan"
   ]
  },
  {
   "cell_type": "code",
   "execution_count": null,
   "metadata": {},
   "outputs": [],
   "source": [
    "plot = penjualan_per_bulan.plot(title = \"Penjualan Per Bulan\")\n",
    "plot.set_xlabel(\"Bulan\")\n",
    "plot.set_ylabel(\"Total Unit Terjual\")"
   ]
  },
  {
   "cell_type": "markdown",
   "metadata": {},
   "source": [
    "### Penjualan Per Hari"
   ]
  },
  {
   "cell_type": "code",
   "execution_count": null,
   "metadata": {},
   "outputs": [],
   "source": [
    "penjualan_per_hari = df.___(___).size()\n",
    "penjualan_per_hari"
   ]
  },
  {
   "cell_type": "code",
   "execution_count": null,
   "metadata": {},
   "outputs": [],
   "source": [
    "plot = penjualan_per_hari.plot(title = \"Penjualan Per Hari\")\n",
    "plot.___(\"Hari\")\n",
    "plot.___(\"Total Unit Terjual\")"
   ]
  }
 ],
 "metadata": {
  "kernelspec": {
   "display_name": "Python 3",
   "language": "python",
   "name": "python3"
  },
  "language_info": {
   "codemirror_mode": {
    "name": "ipython",
    "version": 3
   },
   "file_extension": ".py",
   "mimetype": "text/x-python",
   "name": "python",
   "nbconvert_exporter": "python",
   "pygments_lexer": "ipython3",
   "version": "3.7.6"
  }
 },
 "nbformat": 4,
 "nbformat_minor": 4
}
